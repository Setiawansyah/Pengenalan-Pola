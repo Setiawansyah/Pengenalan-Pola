{
  "nbformat": 4,
  "nbformat_minor": 0,
  "metadata": {
    "colab": {
      "name": "Matrix_Setiawansyah.ipynb",
      "provenance": [],
      "authorship_tag": "ABX9TyOg7jKa+GNZ+0/EoBm6xvwB",
      "include_colab_link": true
    },
    "kernelspec": {
      "name": "python3",
      "display_name": "Python 3"
    },
    "language_info": {
      "name": "python"
    }
  },
  "cells": [
    {
      "cell_type": "markdown",
      "metadata": {
        "id": "view-in-github",
        "colab_type": "text"
      },
      "source": [
        "<a href=\"https://colab.research.google.com/github/Setiawansyah/Pengenalan-Pola/blob/main/Matrix_Setiawansyah.ipynb\" target=\"_parent\"><img src=\"https://colab.research.google.com/assets/colab-badge.svg\" alt=\"Open In Colab\"/></a>"
      ]
    },
    {
      "cell_type": "code",
      "metadata": {
        "colab": {
          "base_uri": "https://localhost:8080/"
        },
        "id": "kHX-8vMer5bh",
        "outputId": "7fb66d1a-0418-4543-f188-ccc7a25be15e"
      },
      "source": [
        "# mengubah dari 1D menjadi matrik 2D \n",
        "import numpy as np\n",
        "a = np.arange(1,21,1)\n",
        "c = a.reshape((4,5))\n",
        "print(c)"
      ],
      "execution_count": 4,
      "outputs": [
        {
          "output_type": "stream",
          "text": [
            "[[ 1  2  3  4  5]\n",
            " [ 6  7  8  9 10]\n",
            " [11 12 13 14 15]\n",
            " [16 17 18 19 20]]\n"
          ],
          "name": "stdout"
        }
      ]
    }
  ]
}