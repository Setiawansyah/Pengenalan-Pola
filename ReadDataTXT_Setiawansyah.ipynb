{
  "nbformat": 4,
  "nbformat_minor": 0,
  "metadata": {
    "colab": {
      "name": "ReadDataTXT_Setiawansyah.ipynb",
      "provenance": [],
      "authorship_tag": "ABX9TyPaSM3IM6ObUChtA2J+ybFx",
      "include_colab_link": true
    },
    "kernelspec": {
      "name": "python3",
      "display_name": "Python 3"
    },
    "language_info": {
      "name": "python"
    }
  },
  "cells": [
    {
      "cell_type": "markdown",
      "metadata": {
        "id": "view-in-github",
        "colab_type": "text"
      },
      "source": [
        "<a href=\"https://colab.research.google.com/github/Setiawansyah/Pengenalan-Pola/blob/main/ReadDataTXT_Setiawansyah.ipynb\" target=\"_parent\"><img src=\"https://colab.research.google.com/assets/colab-badge.svg\" alt=\"Open In Colab\"/></a>"
      ]
    },
    {
      "cell_type": "code",
      "metadata": {
        "colab": {
          "base_uri": "https://localhost:8080/"
        },
        "id": "gf4xKo45uYeh",
        "outputId": "11b868b2-7fcd-4892-a76f-5e6c8ce4a999"
      },
      "source": [
        "# Membaca data dari file dengan format text (delimeter)\n",
        "print(\"\\n read text data with tab delimiter\")\n",
        "with open ('Data.txt') as data: print(data.read())"
      ],
      "execution_count": 5,
      "outputs": [
        {
          "output_type": "stream",
          "text": [
            "\n",
            " read text data with tab delimiter\n",
            "Nama Pasien;Umur;Gender;Diagnosa Sakit\n",
            "Anto;24;L;Tidak\n",
            "Budi;35;L;Ya\n",
            "Adi;55;L;Ya\n",
            "Delima;32;P;Ya\n",
            "Dodi;21;L;Tidak\n",
            "Tukiyem;19;P;Tidak\n",
            "Rama;23;L;Tidak\n",
            "Santi;35;P;Tidak\n",
            "Mery;44;P;Ya\n",
            "Yanti;27;P;Tidak\n",
            "Parto;43;L;Ya\n",
            "Dea;24;P;Tidak\n"
          ],
          "name": "stdout"
        }
      ]
    }
  ]
}