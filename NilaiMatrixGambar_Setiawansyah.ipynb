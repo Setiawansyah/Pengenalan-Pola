{
  "nbformat": 4,
  "nbformat_minor": 0,
  "metadata": {
    "colab": {
      "name": "NilaiMatrixGambar_Setiawansyah.ipynb",
      "provenance": [],
      "authorship_tag": "ABX9TyOP8kdivM+TdbHX/+9+Tk8r",
      "include_colab_link": true
    },
    "kernelspec": {
      "name": "python3",
      "display_name": "Python 3"
    },
    "language_info": {
      "name": "python"
    }
  },
  "cells": [
    {
      "cell_type": "markdown",
      "metadata": {
        "id": "view-in-github",
        "colab_type": "text"
      },
      "source": [
        "<a href=\"https://colab.research.google.com/github/Setiawansyah/Pengenalan-Pola/blob/main/NilaiMatrixGambar_Setiawansyah.ipynb\" target=\"_parent\"><img src=\"https://colab.research.google.com/assets/colab-badge.svg\" alt=\"Open In Colab\"/></a>"
      ]
    },
    {
      "cell_type": "code",
      "metadata": {
        "colab": {
          "base_uri": "https://localhost:8080/"
        },
        "id": "pPM_89qiw9-O",
        "outputId": "ba69e9a5-a42e-4f26-f2f6-ec48a1fbe66e"
      },
      "source": [
        "# mengambil nilai matriksnya\n",
        "import matplotlib.pyplot as plt\n",
        "import cv2\n",
        "import numpy as np\n",
        "\n",
        "print(\"read images using opencv\")\n",
        "five = cv2.imread(\"5.png\")\n",
        "# acces pixel of images per postion \n",
        "pixels = five[100,100]\n",
        "print(pixels)"
      ],
      "execution_count": 2,
      "outputs": [
        {
          "output_type": "stream",
          "text": [
            "read images using opencv\n",
            "[171 106 101]\n"
          ],
          "name": "stdout"
        }
      ]
    }
  ]
}