{
  "nbformat": 4,
  "nbformat_minor": 0,
  "metadata": {
    "colab": {
      "name": "ReadData_Setiawansyah.ipynb",
      "provenance": [],
      "authorship_tag": "ABX9TyNMd1f03Lm8rZXl2NYho42s",
      "include_colab_link": true
    },
    "kernelspec": {
      "name": "python3",
      "display_name": "Python 3"
    },
    "language_info": {
      "name": "python"
    }
  },
  "cells": [
    {
      "cell_type": "markdown",
      "metadata": {
        "id": "view-in-github",
        "colab_type": "text"
      },
      "source": [
        "<a href=\"https://colab.research.google.com/github/Setiawansyah/Pengenalan-Pola/blob/main/ReadData_Setiawansyah.ipynb\" target=\"_parent\"><img src=\"https://colab.research.google.com/assets/colab-badge.svg\" alt=\"Open In Colab\"/></a>"
      ]
    },
    {
      "cell_type": "code",
      "metadata": {
        "colab": {
          "base_uri": "https://localhost:8080/"
        },
        "id": "MV7C-8xYuCLQ",
        "outputId": "85d6c04d-4c4b-4302-9e22-19cdb2e08570"
      },
      "source": [
        "# Membaca data dari file dengan format CSV\n",
        "import pandas as pd\n",
        "data = pd.read_csv(\"Data.csv\", sep=\";\")\n",
        "print(data)"
      ],
      "execution_count": 2,
      "outputs": [
        {
          "output_type": "stream",
          "text": [
            "   Nama Pasien  Umur Gender Diagnosa Sakit\n",
            "0         Anto    24      L          Tidak\n",
            "1         Budi    35      L             Ya\n",
            "2          Adi    55      L             Ya\n",
            "3       Delima    32      P             Ya\n",
            "4         Dodi    21      L          Tidak\n",
            "5      Tukiyem    19      P          Tidak\n",
            "6         Rama    23      L          Tidak\n",
            "7        Santi    35      P          Tidak\n",
            "8         Mery    44      P             Ya\n",
            "9        Yanti    27      P          Tidak\n",
            "10       Parto    43      L             Ya\n",
            "11         Dea    24      P          Tidak\n"
          ],
          "name": "stdout"
        }
      ]
    }
  ]
}