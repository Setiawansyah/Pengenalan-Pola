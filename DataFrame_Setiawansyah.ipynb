{
  "nbformat": 4,
  "nbformat_minor": 0,
  "metadata": {
    "colab": {
      "name": "DataFrame_Setiawansyah.ipynb",
      "provenance": [],
      "authorship_tag": "ABX9TyPBdGfUX4rImn8wHqc4VGaE",
      "include_colab_link": true
    },
    "kernelspec": {
      "name": "python3",
      "display_name": "Python 3"
    },
    "language_info": {
      "name": "python"
    }
  },
  "cells": [
    {
      "cell_type": "markdown",
      "metadata": {
        "id": "view-in-github",
        "colab_type": "text"
      },
      "source": [
        "<a href=\"https://colab.research.google.com/github/Setiawansyah/Pengenalan-Pola/blob/main/DataFrame_Setiawansyah.ipynb\" target=\"_parent\"><img src=\"https://colab.research.google.com/assets/colab-badge.svg\" alt=\"Open In Colab\"/></a>"
      ]
    },
    {
      "cell_type": "code",
      "metadata": {
        "colab": {
          "base_uri": "https://localhost:8080/"
        },
        "id": "n7Tkz8eGooXr",
        "outputId": "6d253177-6e71-4d73-bdcd-89c817099624"
      },
      "source": [
        "#data frame\n",
        "import pandas as pd\n",
        "import numpy as np\n",
        "df = pd.DataFrame(np.array([[1, 2, 3], [4, 5, 6], [7, 8, 9]]),\n",
        "                        columns=['a', 'b', 'c'])\n",
        "\n",
        "print(df) \n"
      ],
      "execution_count": 7,
      "outputs": [
        {
          "output_type": "stream",
          "text": [
            "   a  b  c\n",
            "0  1  2  3\n",
            "1  4  5  6\n",
            "2  7  8  9\n"
          ],
          "name": "stdout"
        }
      ]
    }
  ]
}