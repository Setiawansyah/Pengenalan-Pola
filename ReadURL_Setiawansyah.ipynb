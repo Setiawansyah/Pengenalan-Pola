{
  "nbformat": 4,
  "nbformat_minor": 0,
  "metadata": {
    "colab": {
      "name": "ReadURL_Setiawansyah.ipynb",
      "provenance": [],
      "authorship_tag": "ABX9TyNq70XPT+Hc5oGdEafICOXo",
      "include_colab_link": true
    },
    "kernelspec": {
      "name": "python3",
      "display_name": "Python 3"
    },
    "language_info": {
      "name": "python"
    }
  },
  "cells": [
    {
      "cell_type": "markdown",
      "metadata": {
        "id": "view-in-github",
        "colab_type": "text"
      },
      "source": [
        "<a href=\"https://colab.research.google.com/github/Setiawansyah/Pengenalan-Pola/blob/main/ReadURL_Setiawansyah.ipynb\" target=\"_parent\"><img src=\"https://colab.research.google.com/assets/colab-badge.svg\" alt=\"Open In Colab\"/></a>"
      ]
    },
    {
      "cell_type": "code",
      "metadata": {
        "colab": {
          "base_uri": "https://localhost:8080/"
        },
        "id": "5BUCCK06u0nG",
        "outputId": "6ca3a019-26e3-4757-974e-5b770816504d"
      },
      "source": [
        "# Membaca data dari URL\n",
        "import pandas as pd\n",
        "f = pd.read_csv('http://www.exploredata.net/ftp/Spellman.csv')\n",
        "print(f)"
      ],
      "execution_count": 1,
      "outputs": [
        {
          "output_type": "stream",
          "text": [
            "         time     40    50     60    70  ...   220   230   240   250    260\n",
            "0     YAL001C -0.070 -0.23 -0.100  0.03  ...  0.31  0.03  0.57  0.00  0.010\n",
            "1     YAL014C  0.215  0.09  0.025 -0.04  ... -0.06 -0.26 -0.10  0.27  0.235\n",
            "2     YAL016W  0.150  0.15  0.220  0.29  ... -0.26 -0.34 -0.34  0.25  0.190\n",
            "3     YAL020C -0.350 -0.28 -0.215 -0.15  ...  0.80 -0.47  1.01 -0.36 -0.405\n",
            "4     YAL022C -0.415 -0.59 -0.580 -0.57  ...  1.03  0.08  0.57 -0.26 -0.310\n",
            "...       ...    ...   ...    ...   ...  ...   ...   ...   ...   ...    ...\n",
            "4376  YPR198W -0.060  0.08  0.210  0.34  ...  0.59 -0.96  0.40 -0.23 -0.325\n",
            "4377  YPR199C  0.155  0.19  0.235  0.28  ... -0.44 -1.03  0.14  0.30  0.250\n",
            "4378  YPR201W -0.255 -0.36 -0.300 -0.24  ...  0.80 -0.13  0.84 -0.39 -0.415\n",
            "4379  YPR203W  0.570  0.12 -0.070 -0.26  ... -1.21 -1.36 -0.12  0.69  0.555\n",
            "4380  YPR204W  0.405  0.17 -0.045 -0.26  ... -0.39 -0.22 -0.08  0.65  0.520\n",
            "\n",
            "[4381 rows x 24 columns]\n"
          ],
          "name": "stdout"
        }
      ]
    }
  ]
}