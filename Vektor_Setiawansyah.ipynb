{
  "nbformat": 4,
  "nbformat_minor": 0,
  "metadata": {
    "colab": {
      "name": "Vektor_Setiawansyah.ipynb",
      "provenance": [],
      "collapsed_sections": [],
      "mount_file_id": "1VtCH5lNzQpnGnTc-gP-l1RQMtle5ddVs",
      "authorship_tag": "ABX9TyMDSQVwvreXXIIPLXnyPpdE",
      "include_colab_link": true
    },
    "kernelspec": {
      "name": "python3",
      "display_name": "Python 3"
    },
    "language_info": {
      "name": "python"
    }
  },
  "cells": [
    {
      "cell_type": "markdown",
      "metadata": {
        "id": "view-in-github",
        "colab_type": "text"
      },
      "source": [
        "<a href=\"https://colab.research.google.com/github/Setiawansyah/Pengenalan-Pola/blob/main/Vektor_Setiawansyah.ipynb\" target=\"_parent\"><img src=\"https://colab.research.google.com/assets/colab-badge.svg\" alt=\"Open In Colab\"/></a>"
      ]
    },
    {
      "cell_type": "code",
      "metadata": {
        "colab": {
          "base_uri": "https://localhost:8080/"
        },
        "id": "FiAjMm9unNe7",
        "outputId": "c235784a-673a-406b-f860-a18e3dd832aa"
      },
      "source": [
        "# vektor python numpy with range value\n",
        "import numpy as np\n",
        "print(\"vektor default python\\n\")\n",
        "a = np.arange(1,20,1)\n",
        "b = np.arange(1,20,2)\n",
        "\n",
        "import numpy as np\n",
        "print (\" \\n vektor via numpy \\n\")\n",
        "\n",
        "# vektor via numpy \n",
        "c = np.array ([1,2,3,4,5])\n",
        "d = np.array ([1.5, 2.5, 5, 6, 7])\n",
        "\n",
        "print(a)\n",
        "print(b)\n",
        "print(a.ndim)\n",
        "print(a.shape)"
      ],
      "execution_count": 1,
      "outputs": [
        {
          "output_type": "stream",
          "text": [
            "vektor default python\n",
            "\n",
            " \n",
            " vektor via numpy \n",
            "\n",
            "[ 1  2  3  4  5  6  7  8  9 10 11 12 13 14 15 16 17 18 19]\n",
            "[ 1  3  5  7  9 11 13 15 17 19]\n",
            "1\n",
            "(19,)\n"
          ],
          "name": "stdout"
        }
      ]
    }
  ]
}